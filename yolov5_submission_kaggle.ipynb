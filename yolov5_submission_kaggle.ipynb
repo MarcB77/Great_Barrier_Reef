{
 "cells": [
  {
   "cell_type": "markdown",
   "id": "080cfe78",
   "metadata": {
    "papermill": {
     "duration": 0.006655,
     "end_time": "2022-01-20T11:32:41.597591",
     "exception": false,
     "start_time": "2022-01-20T11:32:41.590936",
     "status": "completed"
    },
    "tags": []
   },
   "source": [
    "Kaggle initialization"
   ]
  },
  {
   "cell_type": "code",
   "execution_count": 1,
   "id": "f0141cf7",
   "metadata": {
    "_cell_guid": "b1076dfc-b9ad-4769-8c92-a6c4dae69d19",
    "_uuid": "8f2839f25d086af736a60e9eeb907d3b93b6e0e5",
    "execution": {
     "iopub.execute_input": "2022-01-20T11:32:41.626965Z",
     "iopub.status.busy": "2022-01-20T11:32:41.626130Z",
     "iopub.status.idle": "2022-01-20T11:32:42.820441Z",
     "shell.execute_reply": "2022-01-20T11:32:42.819670Z",
     "shell.execute_reply.started": "2022-01-15T18:03:03.753239Z"
    },
    "papermill": {
     "duration": 1.213969,
     "end_time": "2022-01-20T11:32:42.820603",
     "exception": false,
     "start_time": "2022-01-20T11:32:41.606634",
     "status": "completed"
    },
    "tags": []
   },
   "outputs": [],
   "source": [
    "\n",
    "import numpy as np \n",
    "import pandas as pd\n",
    "import torch\n",
    "from tqdm import tqdm\n",
    "import sys\n",
    "\n",
    "sys.path.append('../input/tensorflow-great-barrier-reef')"
   ]
  },
  {
   "cell_type": "code",
   "execution_count": 2,
   "id": "b909d1e0",
   "metadata": {
    "execution": {
     "iopub.execute_input": "2022-01-20T11:32:42.837296Z",
     "iopub.status.busy": "2022-01-20T11:32:42.836605Z",
     "iopub.status.idle": "2022-01-20T11:32:44.436364Z",
     "shell.execute_reply": "2022-01-20T11:32:44.435546Z",
     "shell.execute_reply.started": "2022-01-15T18:03:05.163613Z"
    },
    "papermill": {
     "duration": 1.610452,
     "end_time": "2022-01-20T11:32:44.436505",
     "exception": false,
     "start_time": "2022-01-20T11:32:42.826053",
     "status": "completed"
    },
    "tags": []
   },
   "outputs": [],
   "source": [
    "!mkdir -p /root/.config/Ultralytics\n",
    "!cp /kaggle/input/yolov5-font/Arial.ttf /root/.config/Ultralytics/"
   ]
  },
  {
   "cell_type": "code",
   "execution_count": 3,
   "id": "657d3ad7",
   "metadata": {
    "execution": {
     "iopub.execute_input": "2022-01-20T11:32:44.450922Z",
     "iopub.status.busy": "2022-01-20T11:32:44.450311Z",
     "iopub.status.idle": "2022-01-20T11:32:44.476968Z",
     "shell.execute_reply": "2022-01-20T11:32:44.476318Z",
     "shell.execute_reply.started": "2022-01-15T18:03:06.731251Z"
    },
    "papermill": {
     "duration": 0.035452,
     "end_time": "2022-01-20T11:32:44.477112",
     "exception": false,
     "start_time": "2022-01-20T11:32:44.441660",
     "status": "completed"
    },
    "tags": []
   },
   "outputs": [],
   "source": [
    "import greatbarrierreef\n",
    "env = greatbarrierreef.make_env()# initialize the environment\n",
    "iter_test = env.iter_test()      # an iterator which loops over the test set and sample submission"
   ]
  },
  {
   "cell_type": "code",
   "execution_count": 4,
   "id": "0696b981",
   "metadata": {
    "execution": {
     "iopub.execute_input": "2022-01-20T11:32:44.490418Z",
     "iopub.status.busy": "2022-01-20T11:32:44.489796Z",
     "iopub.status.idle": "2022-01-20T11:32:47.660790Z",
     "shell.execute_reply": "2022-01-20T11:32:47.660184Z",
     "shell.execute_reply.started": "2022-01-15T18:03:06.759550Z"
    },
    "papermill": {
     "duration": 3.178621,
     "end_time": "2022-01-20T11:32:47.660960",
     "exception": false,
     "start_time": "2022-01-20T11:32:44.482339",
     "status": "completed"
    },
    "tags": []
   },
   "outputs": [
    {
     "name": "stderr",
     "output_type": "stream",
     "text": [
      "YOLOv5 🚀 2022-1-18 torch 1.9.1+cpu CPU\n",
      "\n",
      "Fusing layers... \n",
      "Model Summary: 280 layers, 12308200 parameters, 0 gradients\n",
      "Adding AutoShape... \n"
     ]
    }
   ],
   "source": [
    "model = torch.hub.load('../input/yolov5-lib-ds', \n",
    "                       'custom', \n",
    "                       path='../input/reef-baseline-fold12/l6_3600_uflip_vm5_f12_up/f1/best.pt',\n",
    "                       source='local',\n",
    "                       force_reload=True)  \n",
    "model.conf = 0.01 # model confidence"
   ]
  },
  {
   "cell_type": "code",
   "execution_count": 5,
   "id": "d0a53517",
   "metadata": {
    "execution": {
     "iopub.execute_input": "2022-01-20T11:32:47.679720Z",
     "iopub.status.busy": "2022-01-20T11:32:47.678835Z",
     "iopub.status.idle": "2022-01-20T11:36:56.159554Z",
     "shell.execute_reply": "2022-01-20T11:36:56.157157Z",
     "shell.execute_reply.started": "2022-01-15T18:03:10.095773Z"
    },
    "papermill": {
     "duration": 248.491877,
     "end_time": "2022-01-20T11:36:56.159714",
     "exception": false,
     "start_time": "2022-01-20T11:32:47.667837",
     "status": "completed"
    },
    "tags": []
   },
   "outputs": [
    {
     "name": "stderr",
     "output_type": "stream",
     "text": [
      "0it [00:00, ?it/s]"
     ]
    },
    {
     "name": "stdout",
     "output_type": "stream",
     "text": [
      "This version of the API is not optimized and should not be used to estimate the runtime of your code on the hidden test set.\n"
     ]
    },
    {
     "name": "stderr",
     "output_type": "stream",
     "text": [
      "1it [01:23, 83.39s/it]"
     ]
    },
    {
     "name": "stdout",
     "output_type": "stream",
     "text": [
      "Prediction: \n"
     ]
    },
    {
     "name": "stderr",
     "output_type": "stream",
     "text": [
      "2it [02:45, 82.92s/it]"
     ]
    },
    {
     "name": "stdout",
     "output_type": "stream",
     "text": [
      "Prediction: 0.61 302.99285888671875 556.5386352539062 63.851593017578125 53.27777099609375\n"
     ]
    },
    {
     "name": "stderr",
     "output_type": "stream",
     "text": [
      "3it [04:08, 82.82s/it]"
     ]
    },
    {
     "name": "stdout",
     "output_type": "stream",
     "text": [
      "Prediction: 0.33 298.892578125 564.9966430664062 62.661590576171875 50.1756591796875\n"
     ]
    },
    {
     "name": "stderr",
     "output_type": "stream",
     "text": [
      "\n"
     ]
    }
   ],
   "source": [
    "for idx, (img, pred_df) in enumerate(tqdm(iter_test)):\n",
    "    anno = ''\n",
    "    r = model(img, size=10000, augment=True)\n",
    "    predictions = []\n",
    "    if r.pandas().xyxy[0].shape[0] == 0:\n",
    "        anno = ''\n",
    "    else:\n",
    "        for idx, row in r.pandas().xyxy[0].iterrows():\n",
    "            if row.confidence > 0.28:\n",
    "                anno += '{} {} {} {} {} '.format(row.confidence, int(row.xmin), int(row.ymin), int(row.xmax-row.xmin), int(row.ymax-row.ymin))\n",
    "                predictions.append('{:.2f} {} {} {} {}'.format(row.confidence, row.xmin, row.ymin, row.xmax-row.xmin, row.ymax-row.ymin))\n",
    "    \n",
    "    prediction_str = ' '.join(predictions)\n",
    "    pred_df['annotations'] = prediction_str\n",
    "    env.predict(pred_df)\n",
    "    print('Prediction:', prediction_str)"
   ]
  },
  {
   "cell_type": "code",
   "execution_count": 6,
   "id": "a009e243",
   "metadata": {
    "execution": {
     "iopub.execute_input": "2022-01-20T11:36:56.183075Z",
     "iopub.status.busy": "2022-01-20T11:36:56.182419Z",
     "iopub.status.idle": "2022-01-20T11:36:56.198106Z",
     "shell.execute_reply": "2022-01-20T11:36:56.198545Z",
     "shell.execute_reply.started": "2022-01-15T18:03:40.179012Z"
    },
    "papermill": {
     "duration": 0.030115,
     "end_time": "2022-01-20T11:36:56.198701",
     "exception": false,
     "start_time": "2022-01-20T11:36:56.168586",
     "status": "completed"
    },
    "tags": []
   },
   "outputs": [
    {
     "data": {
      "text/html": [
       "<div>\n",
       "<style scoped>\n",
       "    .dataframe tbody tr th:only-of-type {\n",
       "        vertical-align: middle;\n",
       "    }\n",
       "\n",
       "    .dataframe tbody tr th {\n",
       "        vertical-align: top;\n",
       "    }\n",
       "\n",
       "    .dataframe thead th {\n",
       "        text-align: right;\n",
       "    }\n",
       "</style>\n",
       "<table border=\"1\" class=\"dataframe\">\n",
       "  <thead>\n",
       "    <tr style=\"text-align: right;\">\n",
       "      <th></th>\n",
       "      <th>index</th>\n",
       "      <th>annotations</th>\n",
       "    </tr>\n",
       "  </thead>\n",
       "  <tbody>\n",
       "    <tr>\n",
       "      <th>0</th>\n",
       "      <td>0</td>\n",
       "      <td>NaN</td>\n",
       "    </tr>\n",
       "    <tr>\n",
       "      <th>1</th>\n",
       "      <td>1</td>\n",
       "      <td>0.61 302.99285888671875 556.5386352539062 63.8...</td>\n",
       "    </tr>\n",
       "    <tr>\n",
       "      <th>2</th>\n",
       "      <td>2</td>\n",
       "      <td>0.33 298.892578125 564.9966430664062 62.661590...</td>\n",
       "    </tr>\n",
       "  </tbody>\n",
       "</table>\n",
       "</div>"
      ],
      "text/plain": [
       "   index                                        annotations\n",
       "0      0                                                NaN\n",
       "1      1  0.61 302.99285888671875 556.5386352539062 63.8...\n",
       "2      2  0.33 298.892578125 564.9966430664062 62.661590..."
      ]
     },
     "execution_count": 6,
     "metadata": {},
     "output_type": "execute_result"
    }
   ],
   "source": [
    "sub_df = pd.read_csv('submission.csv')\n",
    "sub_df.head()"
   ]
  }
 ],
 "metadata": {
  "kernelspec": {
   "display_name": "Python 3",
   "language": "python",
   "name": "python3"
  },
  "language_info": {
   "codemirror_mode": {
    "name": "ipython",
    "version": 3
   },
   "file_extension": ".py",
   "mimetype": "text/x-python",
   "name": "python",
   "nbconvert_exporter": "python",
   "pygments_lexer": "ipython3",
   "version": "3.7.12"
  },
  "papermill": {
   "default_parameters": {},
   "duration": 264.465584,
   "end_time": "2022-01-20T11:36:57.119747",
   "environment_variables": {},
   "exception": null,
   "input_path": "__notebook__.ipynb",
   "output_path": "__notebook__.ipynb",
   "parameters": {},
   "start_time": "2022-01-20T11:32:32.654163",
   "version": "2.3.3"
  }
 },
 "nbformat": 4,
 "nbformat_minor": 5
}
